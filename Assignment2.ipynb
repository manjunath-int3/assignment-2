{
 "cells": [
  {
   "cell_type": "code",
   "execution_count": 1,
   "metadata": {},
   "outputs": [
    {
     "name": "stdout",
     "output_type": "stream",
     "text": [
      "[0, 1, 4, 9, 16, 25, 36, 49, 64, 81]\n",
      "285\n"
     ]
    }
   ],
   "source": [
    "a=[]\n",
    "for i in range(10):\n",
    "    j=i**2\n",
    "    a.append(j)\n",
    "print(a)\n",
    "def myreduce():\n",
    "    l=0\n",
    "    for k in a:\n",
    "        l=k+l\n",
    "    print(l)\n",
    "myreduce()"
   ]
  },
  {
   "cell_type": "code",
   "execution_count": 2,
   "metadata": {},
   "outputs": [
    {
     "name": "stdout",
     "output_type": "stream",
     "text": [
      "[1, 2, 3, 5, 8, 13, 21]\n"
     ]
    }
   ],
   "source": [
    "c=[]\n",
    "x=[]\n",
    "def myfib(n):\n",
    "    d=1\n",
    "    e=1\n",
    "    for j in range(n):\n",
    "        d,e=e,d+e\n",
    "        x.append(d)\n",
    "    return x\n",
    "def myfilter(n):\n",
    "    for b in range(1,n,1):\n",
    "        for i in x:\n",
    "            if i==b:\n",
    "                c.append(b)\n",
    "    print(c)\n",
    "myfib(25) \n",
    "myfilter(25)"
   ]
  },
  {
   "cell_type": "code",
   "execution_count": 6,
   "metadata": {},
   "outputs": [
    {
     "name": "stdout",
     "output_type": "stream",
     "text": [
      "ACADGILD => ['A', 'C', 'A', 'D', 'G', 'I', 'L', 'D']\n",
      "['x','y','z'] => ['x', 'xx', 'xxx', 'xxxx', 'y', 'yy', 'yyy', 'yyyy', 'z', 'zz', 'zzz', 'zzzz']\n",
      "['x','y','z'] => ['x', 'y', 'z', 'xx', 'yy', 'zz', 'xxx', 'yyy', 'zzz', 'xxxx', 'yyyy', 'zzzz']\n",
      "[2,3,4] =>[[2], [3], [4], [3], [4], [5], [4], [5], [6]]\n",
      "[2,3,4,5] =>[[2, 3, 4, 5], [3, 4, 5, 6], [4, 5, 6, 7], [5, 6, 7, 8]]\n",
      "[1,2,3] =>[(1, 1), (2, 1), (3, 1), (1, 2), (2, 2), (3, 2), (1, 3), (2, 3), (3, 3)]\n"
     ]
    }
   ],
   "source": [
    "word = \"ACADGILD\"\n",
    "l = [ alphabet for alphabet in word ]\n",
    "print (\"ACADGILD => \" + str(l))\n",
    "m = ['x','y','z']\n",
    "result=[i*num for i in m for num in range(1,5)]\n",
    "print(\"['x','y','z'] => \" +   str(result))\n",
    "result2=[i*num for num in range(1,5) for i in m]\n",
    "print(\"['x','y','z'] => \" +   str(result2))\n",
    "p = [2,3,4]\n",
    "result3 = [ [item+num] for item in p for num in range(0,3)]\n",
    "print(\"[2,3,4] =>\" +  str(result3))\n",
    "q=[2,3,4,5]\n",
    "result4=[[item+num for item in q] for num in range(0,4)]\n",
    "print(\"[2,3,4,5] =>\" +  str(result4))\n",
    "r=[1,2,3]\n",
    "result5 = [ (b,a) for a in r for b in r]\n",
    "print(\"[1,2,3] =>\" +  str(result5))"
   ]
  },
  {
   "cell_type": "code",
   "execution_count": 7,
   "metadata": {},
   "outputs": [
    {
     "name": "stdout",
     "output_type": "stream",
     "text": [
      "sentence? i am anwita m hegde\n"
     ]
    },
    {
     "data": {
      "text/plain": [
       "['anwita']"
      ]
     },
     "execution_count": 7,
     "metadata": {},
     "output_type": "execute_result"
    }
   ],
   "source": [
    "def longestWord(): \n",
    "    c=[] \n",
    "    a=input('sentence? ')\n",
    "    b=a.split(' ')\n",
    "    max_len = len(max(b, key=len))\n",
    "    return [word for word in b if len(word) == max_len]\n",
    "    print('Longest word is',word)\n",
    "longestWord()"
   ]
  },
  {
   "cell_type": "code",
   "execution_count": 5,
   "metadata": {},
   "outputs": [
    {
     "name": "stdout",
     "output_type": "stream",
     "text": [
      "103.81202964974725\n"
     ]
    }
   ],
   "source": [
    "class Tria:\n",
    "\n",
    "    def __init__(self, n):\n",
    "        self.number_of_sides = n\n",
    "    \n",
    "    def print_num_sides(self):\n",
    "        '''a quick, informational print statement'''\n",
    "        print('There are ' + str(self.number_of_sides) + 'sides.')\n",
    "\n",
    "class Triangle(Tria):\n",
    "\n",
    "    def __init__(self, lengths_of_sides):\n",
    "        Tria.__init__(self, 3)\n",
    "        self.lengths_of_sides = lengths_of_sides  # list of three numbers\n",
    "    \n",
    "    def get_area(self):\n",
    "        '''return the area of the triangle using the semi-perimeter method'''\n",
    "        a, b, c = self.lengths_of_sides\n",
    "        \n",
    "        # calculate the semi-perimeter\n",
    "        s = (a + b + c) / 2\n",
    "        return (s*(s-a)*(s-b)*(s-c)) ** 0.5\n",
    "\n",
    "tri = Triangle([22, 14, 15])\n",
    "print(tri.get_area())"
   ]
  },
  {
   "cell_type": "code",
   "execution_count": 7,
   "metadata": {},
   "outputs": [
    {
     "name": "stdout",
     "output_type": "stream",
     "text": [
      "sentence? good programe\n",
      "integer?5\n",
      "programe\n"
     ]
    }
   ],
   "source": [
    "def filter_long_words(): \n",
    "    c=[] \n",
    "    a=input('sentence? ')\n",
    "    c=input('integer?')\n",
    "    d=int(c)\n",
    "    b=a.split(' ')\n",
    "    for i in b:\n",
    "        if len(i)>d:\n",
    "            print(i)            \n",
    "filter_long_words()"
   ]
  },
  {
   "cell_type": "code",
   "execution_count": 8,
   "metadata": {},
   "outputs": [
    {
     "name": "stdout",
     "output_type": "stream",
     "text": [
      "length of words ['shark', 'cuttlefish', 'squid', 'mantis shrimp', 'anemone'] .\n",
      "[5, 10, 5, 13, 7]\n"
     ]
    }
   ],
   "source": [
    "class Length:\n",
    "    def __init__(self,a):\n",
    "        self.a=a\n",
    "        \n",
    "    def length_words(self): \n",
    "        c=[]\n",
    "        for i in a:\n",
    "            b=len(i)\n",
    "            c.append(b)\n",
    "        return c\n",
    "    def __str__(self):\n",
    "        return \"length of words %s .\" % (self.a)\n",
    "a=['shark', 'cuttlefish', 'squid', 'mantis shrimp', 'anemone']\n",
    "l=Length(a)\n",
    "print(l)\n",
    "print(l.length_words())"
   ]
  },
  {
   "cell_type": "code",
   "execution_count": 10,
   "metadata": {},
   "outputs": [
    {
     "name": "stdout",
     "output_type": "stream",
     "text": [
      "input stringcorrect\n",
      "['c', 'o', 'r', 'r', 'e', 'c', 't']\n",
      "c False\n",
      "o True\n",
      "r False\n",
      "r False\n",
      "e True\n",
      "c False\n",
      "t False\n"
     ]
    }
   ],
   "source": [
    "a=input('input string')\n",
    "b=list(a)\n",
    "print(b)\n",
    "def is_vowel(c):\n",
    "    vowels = ('a', 'e', 'i', 'o', 'u')\n",
    "    if c not in vowels:\n",
    "        return False\n",
    "    else:\n",
    "        return True\n",
    "\n",
    "for i in b:\n",
    "    shek = is_vowel(i)\n",
    "    print(i, shek)"
   ]
  },
  {
   "cell_type": "code",
   "execution_count": null,
   "metadata": {},
   "outputs": [],
   "source": []
  }
 ],
 "metadata": {
  "kernelspec": {
   "display_name": "Python 3",
   "language": "python",
   "name": "python3"
  }
 },
 "nbformat": 4,
 "nbformat_minor": 2
}
